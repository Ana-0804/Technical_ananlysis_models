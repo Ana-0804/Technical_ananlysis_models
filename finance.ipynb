{
 "cells": [
  {
   "cell_type": "markdown",
   "metadata": {},
   "source": [
    "import yfinance as yf\n",
    "msft = yf.Ticker('MSFT')\n",
    "msft.info\n"
   ]
  },
  {
   "cell_type": "code",
   "execution_count": null,
   "metadata": {},
   "outputs": [],
   "source": [
    "import yfinance as yf\n",
    "\n",
    "msft = yf.Ticker(\"MSFT\")\n",
    "msft.info"
   ]
  },
  {
   "cell_type": "code",
   "execution_count": null,
   "metadata": {},
   "outputs": [],
   "source": [
    "a= msft.history(period='1mo')"
   ]
  },
  {
   "cell_type": "code",
   "execution_count": null,
   "metadata": {},
   "outputs": [],
   "source": [
    "a"
   ]
  },
  {
   "cell_type": "code",
   "execution_count": null,
   "metadata": {},
   "outputs": [],
   "source": [
    "import yfinance as yf \n",
    "hdfc =yf.Ticker('HDFCBANK.NS')\n",
    "hdfc.history(period='1mo',interval='15m')\n"
   ]
  },
  {
   "cell_type": "code",
   "execution_count": null,
   "metadata": {},
   "outputs": [],
   "source": [
    "import pandas as pd\n",
    "\n",
    "def calculate_ema_vwap(df, ema_window, vwap_period):\n",
    "    df['EMA'] = df['Close'].ewm(span=ema_window, adjust=False).mean()\n",
    "    df['Cumulative_Volume'] = df['Volume'].cumsum()\n",
    "    df['Cumulative_Value'] = (((df['Close']+df['Low']+df['High'])/3) * df['Volume']).cumsum()\n",
    "    df['VWAP'] = df['Cumulative_Value'] / df['Cumulative_Volume']\n",
    "    df['Captured_Price'] = df.apply(lambda row: row['Close'] if row['EMA'] <= row['VWAP'] else None, axis=1)\n",
    "    \n",
    "    df['Index'] = range(1, len(df) + 1)\n",
    "\n",
    "    df['Price'] = df['Close']\n",
    "\n",
    "    return df\n",
    "\n",
    "hdfc_data = pd.read_csv(\"HDFCBANK.csv\")\n",
    "\n",
    "ema_window_size = 15\n",
    "vwap_period_size = 15\n",
    "\n",
    "hdfc_data_ema_vwap = calculate_ema_vwap(hdfc_data, ema_window_size, vwap_period_size)\n",
    "\n",
    "print(hdfc_data_ema_vwap)\n",
    "\n",
    "hdfc_data_ema_vwap.to_csv(\"hdfc.csv\", index=False)\n"
   ]
  },
  {
   "cell_type": "code",
   "execution_count": null,
   "metadata": {},
   "outputs": [],
   "source": [
    "import pandas as pd\n",
    "\n",
    "def calculate_ema_vwap(df, ema_window, vwap_period, chunk_size):\n",
    "    results = []\n",
    "    for i in range(0, len(df), chunk_size):\n",
    "        chunk = df.iloc[i:i+chunk_size].copy()\n",
    "\n",
    "        chunk['EMA'] = chunk['Close'].ewm(span=ema_window, adjust=False).mean()\n",
    "        chunk['Cumulative_Volume'] = chunk['Volume'].cumsum()\n",
    "        chunk['Cumulative_Value'] = (((chunk['Close']+chunk['Low']+chunk['High'])/3) * chunk['Volume']).cumsum()\n",
    "        chunk['VWAP'] = chunk['Cumulative_Value'] / chunk['Cumulative_Volume']\n",
    "        chunk['Captured_Price'] = chunk.apply(lambda row: row['Close'] if row['EMA'] <= row['VWAP'] else None, axis=1)\n",
    "\n",
    "        chunk['Index'] = range(1, len(chunk) + 1)\n",
    "        chunk['Price'] = chunk['Close']\n",
    "\n",
    "        results.append(chunk)\n",
    "\n",
    "    return pd.concat(results)\n",
    "\n",
    "# Read the data in chunks\n",
    "chunk_size = 25\n",
    "hdfc_data_chunks = pd.read_csv(\"HDFCBANK.csv\", chunksize=chunk_size)\n",
    "\n",
    "ema_window_size = 15\n",
    "vwap_period_size = 15\n",
    "\n",
    "# Process each chunk and concatenate the results\n",
    "hdfc_data_ema_vwap = pd.concat([calculate_ema_vwap(chunk, ema_window_size, vwap_period_size, chunk_size) for chunk in hdfc_data_chunks])\n",
    "\n",
    "print(hdfc_data_ema_vwap)\n",
    "\n",
    "hdfc_data_ema_vwap.to_csv(\"hdfc.csv\", index=False)\n"
   ]
  },
  {
   "cell_type": "code",
   "execution_count": null,
   "metadata": {},
   "outputs": [],
   "source": []
  }
 ],
 "metadata": {
  "kernelspec": {
   "display_name": "Python 3",
   "language": "python",
   "name": "python3"
  },
  "language_info": {
   "codemirror_mode": {
    "name": "ipython",
    "version": 3
   },
   "file_extension": ".py",
   "mimetype": "text/x-python",
   "name": "python",
   "nbconvert_exporter": "python",
   "pygments_lexer": "ipython3",
   "version": "3.11.0"
  }
 },
 "nbformat": 4,
 "nbformat_minor": 2
}
